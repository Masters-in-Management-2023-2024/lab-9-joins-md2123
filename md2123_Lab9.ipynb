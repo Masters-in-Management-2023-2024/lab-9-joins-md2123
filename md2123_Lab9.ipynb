{
  "cells": [
    {
      "cell_type": "markdown",
      "metadata": {
        "id": "gs_wOGI5yU1w"
      },
      "source": [
        "# OPAN5510 Lab Assignment - Joins\n",
        "\n",
        "This lab focuses on using Polars to perform data joins and aggregations to answer business questions."
      ]
    },
    {
      "cell_type": "markdown",
      "metadata": {
        "id": "1RC5vZJsyU1x"
      },
      "source": [
        "# Bike Trips Dataset\n",
        "\n",
        "## Prerequisites\n",
        "\n",
        "For this assignment, you'll need to use Polars for data manipulation.\n",
        "\n",
        "*Insert a code block to import necessary packages (polars)*"
      ]
    },
    {
      "cell_type": "code",
      "execution_count": 2,
      "metadata": {
        "id": "U6sEu6oqyU1x"
      },
      "outputs": [],
      "source": [
        "# Import necessary packages\n",
        "import polars as pl"
      ]
    },
    {
      "cell_type": "markdown",
      "metadata": {
        "id": "BcAhQENByU1x"
      },
      "source": [
        "## Load Datasets\n",
        "\n",
        "Load the `bike_trips.csv` and `bike_weather.csv` files into Polars DataFrames called `trips` and `weather`, respectively.\n",
        "\n",
        "*Insert code block that reads these files into Polars DataFrames*"
      ]
    },
    {
      "cell_type": "code",
      "execution_count": 5,
      "metadata": {
        "colab": {
          "base_uri": "https://localhost:8080/"
        },
        "id": "O1NJ_d1SyU1x",
        "outputId": "fad3d740-67d7-4732-8086-ec65717b856c"
      },
      "outputs": [
        {
          "output_type": "stream",
          "name": "stdout",
          "text": [
            "78704\n",
            "733\n"
          ]
        }
      ],
      "source": [
        "# Load the bike trips and weather data\n",
        "trips = pl.read_csv(\"https://raw.githubusercontent.com/philhetzel/opan5510-class9/refs/heads/main/data/bike_trips.csv\", null_values='NA')\n",
        "weather = pl.read_csv(\"https://raw.githubusercontent.com/philhetzel/opan5510-class9/refs/heads/main/data/bike_weather.csv\", null_values=['NA',''])\n",
        "\n",
        "trips = trips.with_columns(pl.col(\"date\").str.strptime(pl.Date, \"%Y-%m-%d\").alias(\"date\")) # ensure date column is typed correctly\n",
        "weather = weather.with_columns(pl.col(\"date\").str.strptime(pl.Date, \"%Y-%m-%d\").alias(\"date\")) # ensure date column is typed correctly\n",
        "\n",
        "print(trips.height)\n",
        "print(weather.height)"
      ]
    },
    {
      "cell_type": "markdown",
      "metadata": {
        "id": "R04JtG9EyU1x"
      },
      "source": [
        "## Business Question 1: What was the average `duration` of trips that occurred in rainy weather?\n",
        "\n",
        "#### Part A: Join the trips and weather data frames\n",
        "\n",
        "The `trips` data represent every ride taken for a bike share company. The `weather` data represent the prevailing weather for a particular day. Join the `trips` and `weather` data together using the `date` column. Name the resulting DataFrame `trips_weather`.\n",
        "\n",
        "*Insert a code block below that joins `trips` to `weather` using the `date` column.*"
      ]
    },
    {
      "cell_type": "code",
      "execution_count": 6,
      "metadata": {
        "id": "LMuv46gAyU1y",
        "colab": {
          "base_uri": "https://localhost:8080/"
        },
        "outputId": "a652d3f1-6fe0-425b-ce34-ea0a407e7d2c"
      },
      "outputs": [
        {
          "output_type": "stream",
          "name": "stdout",
          "text": [
            "shape: (78_704, 35)\n",
            "┌────────┬──────────┬─────────────┬────────────┬───┬────────────┬────────┬────────────┬────────────┐\n",
            "│ id     ┆ duration ┆ start_date  ┆ start_stat ┆ … ┆ cloud_cove ┆ events ┆ wind_dir_d ┆ zip_code_r │\n",
            "│ ---    ┆ ---      ┆ ---         ┆ ion_name   ┆   ┆ r          ┆ ---    ┆ egrees     ┆ ight       │\n",
            "│ i64    ┆ i64      ┆ str         ┆ ---        ┆   ┆ ---        ┆ str    ┆ ---        ┆ ---        │\n",
            "│        ┆          ┆             ┆ str        ┆   ┆ i64        ┆        ┆ i64        ┆ i64        │\n",
            "╞════════╪══════════╪═════════════╪════════════╪═══╪════════════╪════════╪════════════╪════════════╡\n",
            "│ 4721   ┆ 3        ┆ 2013-08-29T ┆ Market at  ┆ … ┆ 4          ┆ null   ┆ 286        ┆ 94107      │\n",
            "│        ┆          ┆ 20:27:00Z   ┆ 10th       ┆   ┆            ┆        ┆            ┆            │\n",
            "│ 4812   ┆ 3        ┆ 2013-08-29T ┆ 2nd at     ┆ … ┆ 4          ┆ null   ┆ 286        ┆ 94107      │\n",
            "│        ┆          ┆ 21:30:00Z   ┆ Folsom     ┆   ┆            ┆        ┆            ┆            │\n",
            "│ 4705   ┆ 3        ┆ 2013-08-29T ┆ Golden     ┆ … ┆ 4          ┆ null   ┆ 286        ┆ 94107      │\n",
            "│        ┆          ┆ 20:15:00Z   ┆ Gate at    ┆   ┆            ┆        ┆            ┆            │\n",
            "│        ┆          ┆             ┆ Polk       ┆   ┆            ┆        ┆            ┆            │\n",
            "│ 4841   ┆ 3        ┆ 2013-08-29T ┆ University ┆ … ┆ 4          ┆ null   ┆ 286        ┆ 94107      │\n",
            "│        ┆          ┆ 21:48:00Z   ┆ and        ┆   ┆            ┆        ┆            ┆            │\n",
            "│        ┆          ┆             ┆ Emerson    ┆   ┆            ┆        ┆            ┆            │\n",
            "│ 4668   ┆ 4        ┆ 2013-08-29T ┆ San        ┆ … ┆ 4          ┆ null   ┆ 286        ┆ 94107      │\n",
            "│        ┆          ┆ 19:39:00Z   ┆ Francisco  ┆   ┆            ┆        ┆            ┆            │\n",
            "│        ┆          ┆             ┆ Caltrain 2 ┆   ┆            ┆        ┆            ┆            │\n",
            "│        ┆          ┆             ┆ (330 …     ┆   ┆            ┆        ┆            ┆            │\n",
            "│ …      ┆ …        ┆ …           ┆ …          ┆ … ┆ …          ┆ …      ┆ …          ┆ …          │\n",
            "│ 433040 ┆ 3        ┆ 2014-09-01T ┆ Townsend   ┆ … ┆ 0          ┆ null   ┆ 290        ┆ 94107      │\n",
            "│        ┆          ┆ 14:43:00Z   ┆ at 7th     ┆   ┆            ┆        ┆            ┆            │\n",
            "│ 433035 ┆ 9        ┆ 2014-09-01T ┆ Powell     ┆ … ┆ 0          ┆ null   ┆ 290        ┆ 94107      │\n",
            "│        ┆          ┆ 14:37:00Z   ┆ Street     ┆   ┆            ┆        ┆            ┆            │\n",
            "│        ┆          ┆             ┆ BART       ┆   ┆            ┆        ┆            ┆            │\n",
            "│ 433030 ┆ 6        ┆ 2014-09-01T ┆ Powell     ┆ … ┆ 0          ┆ null   ┆ 290        ┆ 94107      │\n",
            "│        ┆          ┆ 14:31:00Z   ┆ Street     ┆   ┆            ┆        ┆            ┆            │\n",
            "│        ┆          ┆             ┆ BART       ┆   ┆            ┆        ┆            ┆            │\n",
            "│ 433004 ┆ 7        ┆ 2014-09-01T ┆ Steuart at ┆ … ┆ 0          ┆ null   ┆ 290        ┆ 94107      │\n",
            "│        ┆          ┆ 13:36:00Z   ┆ Market     ┆   ┆            ┆        ┆            ┆            │\n",
            "│ 432998 ┆ 6        ┆ 2014-09-01T ┆ Market at  ┆ … ┆ 0          ┆ null   ┆ 290        ┆ 94107      │\n",
            "│        ┆          ┆ 13:16:00Z   ┆ 10th       ┆   ┆            ┆        ┆            ┆            │\n",
            "└────────┴──────────┴─────────────┴────────────┴───┴────────────┴────────┴────────────┴────────────┘\n"
          ]
        }
      ],
      "source": [
        "# Join trips and weather data\n",
        "\n",
        "trips_weather = trips.join(\n",
        "    weather,\n",
        "    on=\"date\",\n",
        "    how=\"left\")\n",
        "\n",
        "print (trips_weather)\n"
      ]
    },
    {
      "cell_type": "markdown",
      "metadata": {
        "id": "jAmIh2v9yU1y"
      },
      "source": [
        "#### Part B: Calculate the average `duration` of trips in poor weather\n",
        "\n",
        "Using the `trips_weather` DataFrame, compute the average trip `duration` for days that had weather `events` (i.e. anytime a day had an event of anything but `null`). Name the column for average `duration`: `avg_duration`. The resulting DataFrame should have one row and be named `avg_bad_weather`.\n",
        "\n",
        "*Insert a code block that shows the computation of the average trip duration for days that had a weather event.*"
      ]
    },
    {
      "cell_type": "code",
      "execution_count": 8,
      "metadata": {
        "id": "GfK-KPe2yU1y",
        "colab": {
          "base_uri": "https://localhost:8080/"
        },
        "outputId": "50585e4c-84cf-4ca3-fe7c-af58f418eb51"
      },
      "outputs": [
        {
          "output_type": "stream",
          "name": "stdout",
          "text": [
            "shape: (1, 1)\n",
            "┌──────────────┐\n",
            "│ avg_duration │\n",
            "│ ---          │\n",
            "│ f64          │\n",
            "╞══════════════╡\n",
            "│ 10.34899     │\n",
            "└──────────────┘\n",
            "The average duration of trips in poor weather was 10.35 minutes.\n"
          ]
        }
      ],
      "source": [
        "# Calculate average duration for trips with weather events\n",
        "avg_bad_weather = trips_weather.filter(pl.col(\"events\") != pl.lit(\"null\")).select(pl.col(\"duration\").mean().alias(\"avg_duration\"))\n",
        "print(avg_bad_weather)\n",
        "print(f\"The average duration of trips in poor weather was {avg_bad_weather['avg_duration'][0]:,.2f} minutes.\")"
      ]
    },
    {
      "cell_type": "markdown",
      "metadata": {
        "id": "r1HZVy2qyU1y"
      },
      "source": [
        "# Baseball Dataset\n",
        "\n",
        "## Load Data\n",
        "\n",
        "Load the `Batting.csv`, `People.csv`, and `HallOfFame.csv` datasets into Polars DataFrames.\n",
        "\n",
        "*Insert a code block to load your datasets*"
      ]
    },
    {
      "cell_type": "code",
      "execution_count": 10,
      "metadata": {
        "id": "qrZO72DTyU1y",
        "colab": {
          "base_uri": "https://localhost:8080/"
        },
        "outputId": "6040221b-4f1c-4967-9363-4a0648537d43"
      },
      "outputs": [
        {
          "output_type": "stream",
          "name": "stdout",
          "text": [
            "112184\n",
            "20676\n",
            "4323\n"
          ]
        }
      ],
      "source": [
        "# Load baseball datasets\n",
        "Batting = pl.read_csv(\"https://raw.githubusercontent.com/philhetzel/opan5510-class9/refs/heads/main/data/Batting.csv\", null_values='NA')\n",
        "People = pl.read_csv(\"https://raw.githubusercontent.com/philhetzel/opan5510-class9/refs/heads/main/data/People.csv\", null_values='NA')\n",
        "HallOfFame = pl.read_csv(\"https://raw.githubusercontent.com/philhetzel/opan5510-class9/refs/heads/main/data/HallOfFame.csv\", null_values='NA')\n",
        "\n",
        "print(Batting.height)\n",
        "print(People.height)\n",
        "print(HallOfFame.height)\n"
      ]
    },
    {
      "cell_type": "markdown",
      "metadata": {
        "id": "M9wo7SwoyU1y"
      },
      "source": [
        "## Question 2: How many home runs (`HR`) were hit by players born in Florida?\n",
        "\n",
        "#### Part A: Join the `Batting` and `People` DataFrames together\n",
        "\n",
        "In order to answer this question, you'll need to use the `Batting` and `People` DataFrames. The `Batting` DataFrame has hitting statistics for every season that an individual player has played. The `People` DataFrame represents biographical data about every professional baseball player.\n",
        "\n",
        "Join the `People` DataFrame into the `Batting` DataFrame so that we can perform analysis on batting statistics using columns from the `People` DataFrame. Name the new DataFrame `stats_w_bio`.\n",
        "\n",
        "*Insert a code block that joins the `Batting` DataFrame to the `People` DataFrame.*"
      ]
    },
    {
      "cell_type": "code",
      "execution_count": 11,
      "metadata": {
        "id": "BOYs3snEyU1y",
        "colab": {
          "base_uri": "https://localhost:8080/"
        },
        "outputId": "b5b3c3d1-9e22-4dc6-d3b8-fb1a0ece5915"
      },
      "outputs": [
        {
          "output_type": "stream",
          "name": "stdout",
          "text": [
            "112184\n"
          ]
        }
      ],
      "source": [
        "# Join Batting and People DataFrames\n",
        "stats_w_bio = Batting.join(\n",
        "    People,\n",
        "    on = \"playerID\",\n",
        "    how = \"left\"\n",
        ")\n",
        "\n",
        "print(stats_w_bio.height)"
      ]
    },
    {
      "cell_type": "markdown",
      "metadata": {
        "id": "Pr63NEFcyU1y"
      },
      "source": [
        "#### Part B: Calculate the total number of home runs that were hit by Florida-born players\n",
        "\n",
        "You would like to perform an analysis about how many home runs (`HR`) were hit by players that were born in the `birthState` of Florida (`FL`). Using the new `stats_w_bio` DataFrame that combines batting statistics with biographical information, compute the total number of home runs (`HR`) hit by players who were born (`birthState`) in Florida (`FL`) and name the new column `total_hr`. The DataFrame should have one row and be named `florida_hr`.\n",
        "\n",
        "*Insert a block of code that shows the computation of total home runs hit by players born in Florida. The output of this code block should be a DataFrame.*"
      ]
    },
    {
      "cell_type": "code",
      "execution_count": 15,
      "metadata": {
        "id": "bBGsxFDUyU1y",
        "colab": {
          "base_uri": "https://localhost:8080/"
        },
        "outputId": "4e36b249-94ab-476c-a82a-2ded1e0478ee"
      },
      "outputs": [
        {
          "output_type": "stream",
          "name": "stdout",
          "text": [
            "shape: (1, 1)\n",
            "┌──────────┐\n",
            "│ total_hr │\n",
            "│ ---      │\n",
            "│ i64      │\n",
            "╞══════════╡\n",
            "│ 16225    │\n",
            "└──────────┘\n",
            "The total number of home runs hit by players born in Florida is 16,225.\n"
          ]
        }
      ],
      "source": [
        "# Calculate total home runs by Florida-born players\n",
        "florida_hr = stats_w_bio.filter(pl.col(\"birthState\")== pl.lit(\"FL\")).select(pl.col(\"HR\").sum().alias(\"total_hr\"))\n",
        "print(florida_hr)\n",
        "print(f\"The total number of home runs hit by players born in Florida is {florida_hr['total_hr'][0]:,.0f}.\")"
      ]
    },
    {
      "cell_type": "markdown",
      "metadata": {
        "id": "d5v5qjkayU1y"
      },
      "source": [
        "## Question 3: What are the average number of career Hits (`H`) for Hall of Fame baseball players?\n",
        "\n",
        "#### Part A: Clean the `HallOfFame` DataFrame\n",
        "\n",
        "You would like to perform an analysis on the batting statistics of Hall of Fame baseball players. In order to answer this question, you'll need to use the `Batting` and `HallOfFame` DataFrames.\n",
        "\n",
        "The first thing that you have to do to perform this analysis is to join the `HallOfFame` data into the `Batting` data to understand which players are \"Hall of Famers\". To join the data correctly, we have to ensure that the `playerID` field is unique in `HallOfFame`. Not every player in the `HallOfFame` DataFrame is a Hall of Famer; their `inducted` field must have the value of `Y` and their `category` field should have the value of `Player`. Name the new DataFrame `hall_inducted`.\n",
        "\n",
        "*Insert a code block to transform the `HallOfFame` DataFrame to ensure that `playerID` is unique.*"
      ]
    },
    {
      "cell_type": "code",
      "execution_count": 16,
      "metadata": {
        "id": "P0lc9qLPyU1y",
        "colab": {
          "base_uri": "https://localhost:8080/",
          "height": 569
        },
        "outputId": "619163d4-aafa-4957-abcc-1e61d933c871"
      },
      "outputs": [
        {
          "output_type": "stream",
          "name": "stdout",
          "text": [
            "4323\n",
            "270\n",
            "270\n"
          ]
        },
        {
          "output_type": "execute_result",
          "data": {
            "text/plain": [
              "shape: (4_503, 30)\n",
              "┌───────────┬────────┬───────┬────────┬───┬───────┬──────────┬──────────┬─────────────┐\n",
              "│ playerID  ┆ yearID ┆ stint ┆ teamID ┆ … ┆ votes ┆ inducted ┆ category ┆ needed_note │\n",
              "│ ---       ┆ ---    ┆ ---   ┆ ---    ┆   ┆ ---   ┆ ---      ┆ ---      ┆ ---         │\n",
              "│ str       ┆ i64    ┆ i64   ┆ str    ┆   ┆ i64   ┆ str      ┆ str      ┆ str         │\n",
              "╞═══════════╪════════╪═══════╪════════╪═══╪═══════╪══════════╪══════════╪═════════════╡\n",
              "│ ansonca01 ┆ 1871   ┆ 1     ┆ RC1    ┆ … ┆ null  ┆ Y        ┆ Player   ┆ null        │\n",
              "│ whitede01 ┆ 1871   ┆ 1     ┆ CL1    ┆ … ┆ null  ┆ Y        ┆ Player   ┆ null        │\n",
              "│ ansonca01 ┆ 1872   ┆ 1     ┆ PH1    ┆ … ┆ null  ┆ Y        ┆ Player   ┆ null        │\n",
              "│ orourji01 ┆ 1872   ┆ 1     ┆ MID    ┆ … ┆ null  ┆ Y        ┆ Player   ┆ null        │\n",
              "│ whitede01 ┆ 1872   ┆ 1     ┆ CL1    ┆ … ┆ null  ┆ Y        ┆ Player   ┆ null        │\n",
              "│ …         ┆ …      ┆ …     ┆ …      ┆ … ┆ …     ┆ …        ┆ …        ┆ …           │\n",
              "│ riverma01 ┆ 2013   ┆ 1     ┆ NYA    ┆ … ┆ 425   ┆ Y        ┆ Player   ┆ null        │\n",
              "│ jeterde01 ┆ 2014   ┆ 1     ┆ NYA    ┆ … ┆ 396   ┆ Y        ┆ Player   ┆ null        │\n",
              "│ ortizda01 ┆ 2014   ┆ 1     ┆ BOS    ┆ … ┆ 307   ┆ Y        ┆ Player   ┆ null        │\n",
              "│ ortizda01 ┆ 2015   ┆ 1     ┆ BOS    ┆ … ┆ 307   ┆ Y        ┆ Player   ┆ null        │\n",
              "│ ortizda01 ┆ 2016   ┆ 1     ┆ BOS    ┆ … ┆ 307   ┆ Y        ┆ Player   ┆ null        │\n",
              "└───────────┴────────┴───────┴────────┴───┴───────┴──────────┴──────────┴─────────────┘"
            ],
            "text/html": [
              "<div><style>\n",
              ".dataframe > thead > tr,\n",
              ".dataframe > tbody > tr {\n",
              "  text-align: right;\n",
              "  white-space: pre-wrap;\n",
              "}\n",
              "</style>\n",
              "<small>shape: (4_503, 30)</small><table border=\"1\" class=\"dataframe\"><thead><tr><th>playerID</th><th>yearID</th><th>stint</th><th>teamID</th><th>lgID</th><th>G</th><th>AB</th><th>R</th><th>H</th><th>X2B</th><th>X3B</th><th>HR</th><th>RBI</th><th>SB</th><th>CS</th><th>BB</th><th>SO</th><th>IBB</th><th>HBP</th><th>SH</th><th>SF</th><th>GIDP</th><th>yearID_right</th><th>votedBy</th><th>ballots</th><th>needed</th><th>votes</th><th>inducted</th><th>category</th><th>needed_note</th></tr><tr><td>str</td><td>i64</td><td>i64</td><td>str</td><td>str</td><td>i64</td><td>i64</td><td>i64</td><td>i64</td><td>i64</td><td>i64</td><td>i64</td><td>i64</td><td>i64</td><td>i64</td><td>i64</td><td>i64</td><td>str</td><td>str</td><td>str</td><td>str</td><td>i64</td><td>i64</td><td>str</td><td>i64</td><td>i64</td><td>i64</td><td>str</td><td>str</td><td>str</td></tr></thead><tbody><tr><td>&quot;ansonca01&quot;</td><td>1871</td><td>1</td><td>&quot;RC1&quot;</td><td>null</td><td>25</td><td>120</td><td>29</td><td>39</td><td>11</td><td>3</td><td>0</td><td>16</td><td>6</td><td>2</td><td>2</td><td>1</td><td>null</td><td>null</td><td>null</td><td>null</td><td>0</td><td>1939</td><td>&quot;Old Timers&quot;</td><td>null</td><td>null</td><td>null</td><td>&quot;Y&quot;</td><td>&quot;Player&quot;</td><td>null</td></tr><tr><td>&quot;whitede01&quot;</td><td>1871</td><td>1</td><td>&quot;CL1&quot;</td><td>null</td><td>29</td><td>146</td><td>40</td><td>47</td><td>6</td><td>5</td><td>1</td><td>21</td><td>2</td><td>2</td><td>4</td><td>1</td><td>null</td><td>null</td><td>null</td><td>null</td><td>0</td><td>2013</td><td>&quot;Veterans&quot;</td><td>null</td><td>null</td><td>null</td><td>&quot;Y&quot;</td><td>&quot;Player&quot;</td><td>null</td></tr><tr><td>&quot;ansonca01&quot;</td><td>1872</td><td>1</td><td>&quot;PH1&quot;</td><td>null</td><td>46</td><td>217</td><td>60</td><td>90</td><td>10</td><td>7</td><td>0</td><td>48</td><td>6</td><td>6</td><td>16</td><td>3</td><td>null</td><td>null</td><td>null</td><td>null</td><td>2</td><td>1939</td><td>&quot;Old Timers&quot;</td><td>null</td><td>null</td><td>null</td><td>&quot;Y&quot;</td><td>&quot;Player&quot;</td><td>null</td></tr><tr><td>&quot;orourji01&quot;</td><td>1872</td><td>1</td><td>&quot;MID&quot;</td><td>null</td><td>23</td><td>99</td><td>25</td><td>27</td><td>5</td><td>0</td><td>0</td><td>16</td><td>1</td><td>0</td><td>4</td><td>0</td><td>null</td><td>null</td><td>null</td><td>null</td><td>1</td><td>1945</td><td>&quot;Old Timers&quot;</td><td>null</td><td>null</td><td>null</td><td>&quot;Y&quot;</td><td>&quot;Player&quot;</td><td>null</td></tr><tr><td>&quot;whitede01&quot;</td><td>1872</td><td>1</td><td>&quot;CL1&quot;</td><td>null</td><td>22</td><td>109</td><td>21</td><td>37</td><td>2</td><td>2</td><td>0</td><td>22</td><td>0</td><td>0</td><td>4</td><td>1</td><td>null</td><td>null</td><td>null</td><td>null</td><td>0</td><td>2013</td><td>&quot;Veterans&quot;</td><td>null</td><td>null</td><td>null</td><td>&quot;Y&quot;</td><td>&quot;Player&quot;</td><td>null</td></tr><tr><td>&hellip;</td><td>&hellip;</td><td>&hellip;</td><td>&hellip;</td><td>&hellip;</td><td>&hellip;</td><td>&hellip;</td><td>&hellip;</td><td>&hellip;</td><td>&hellip;</td><td>&hellip;</td><td>&hellip;</td><td>&hellip;</td><td>&hellip;</td><td>&hellip;</td><td>&hellip;</td><td>&hellip;</td><td>&hellip;</td><td>&hellip;</td><td>&hellip;</td><td>&hellip;</td><td>&hellip;</td><td>&hellip;</td><td>&hellip;</td><td>&hellip;</td><td>&hellip;</td><td>&hellip;</td><td>&hellip;</td><td>&hellip;</td><td>&hellip;</td></tr><tr><td>&quot;riverma01&quot;</td><td>2013</td><td>1</td><td>&quot;NYA&quot;</td><td>&quot;AL&quot;</td><td>64</td><td>0</td><td>0</td><td>0</td><td>0</td><td>0</td><td>0</td><td>0</td><td>0</td><td>0</td><td>0</td><td>0</td><td>&quot;0&quot;</td><td>&quot;0&quot;</td><td>&quot;0&quot;</td><td>&quot;0&quot;</td><td>0</td><td>2019</td><td>&quot;BBWAA&quot;</td><td>425</td><td>319</td><td>425</td><td>&quot;Y&quot;</td><td>&quot;Player&quot;</td><td>null</td></tr><tr><td>&quot;jeterde01&quot;</td><td>2014</td><td>1</td><td>&quot;NYA&quot;</td><td>&quot;AL&quot;</td><td>145</td><td>581</td><td>47</td><td>149</td><td>19</td><td>1</td><td>4</td><td>50</td><td>10</td><td>2</td><td>35</td><td>87</td><td>&quot;0&quot;</td><td>&quot;6&quot;</td><td>&quot;8&quot;</td><td>&quot;4&quot;</td><td>15</td><td>2020</td><td>&quot;BBWAA&quot;</td><td>397</td><td>298</td><td>396</td><td>&quot;Y&quot;</td><td>&quot;Player&quot;</td><td>null</td></tr><tr><td>&quot;ortizda01&quot;</td><td>2014</td><td>1</td><td>&quot;BOS&quot;</td><td>&quot;AL&quot;</td><td>142</td><td>518</td><td>59</td><td>136</td><td>27</td><td>0</td><td>35</td><td>104</td><td>0</td><td>0</td><td>75</td><td>95</td><td>&quot;22&quot;</td><td>&quot;3&quot;</td><td>&quot;0&quot;</td><td>&quot;6&quot;</td><td>18</td><td>2022</td><td>&quot;BBWAA&quot;</td><td>394</td><td>296</td><td>307</td><td>&quot;Y&quot;</td><td>&quot;Player&quot;</td><td>null</td></tr><tr><td>&quot;ortizda01&quot;</td><td>2015</td><td>1</td><td>&quot;BOS&quot;</td><td>&quot;AL&quot;</td><td>146</td><td>528</td><td>73</td><td>144</td><td>37</td><td>0</td><td>37</td><td>108</td><td>0</td><td>1</td><td>77</td><td>95</td><td>&quot;16&quot;</td><td>&quot;0&quot;</td><td>&quot;0&quot;</td><td>&quot;9&quot;</td><td>16</td><td>2022</td><td>&quot;BBWAA&quot;</td><td>394</td><td>296</td><td>307</td><td>&quot;Y&quot;</td><td>&quot;Player&quot;</td><td>null</td></tr><tr><td>&quot;ortizda01&quot;</td><td>2016</td><td>1</td><td>&quot;BOS&quot;</td><td>&quot;AL&quot;</td><td>151</td><td>537</td><td>79</td><td>169</td><td>48</td><td>1</td><td>38</td><td>127</td><td>2</td><td>0</td><td>80</td><td>86</td><td>&quot;15&quot;</td><td>&quot;2&quot;</td><td>&quot;0&quot;</td><td>&quot;7&quot;</td><td>22</td><td>2022</td><td>&quot;BBWAA&quot;</td><td>394</td><td>296</td><td>307</td><td>&quot;Y&quot;</td><td>&quot;Player&quot;</td><td>null</td></tr></tbody></table></div>"
            ]
          },
          "metadata": {},
          "execution_count": 16
        }
      ],
      "source": [
        "# Clean HallOfFame DataFrame\n",
        "filtered_HallOfFame = HallOfFame.filter(\n",
        "    (pl.col(\"inducted\") == pl.lit(\"Y\")) &\n",
        "    (pl.col(\"category\") == pl.lit(\"Player\"))\n",
        ")\n",
        "print(HallOfFame.height)\n",
        "print(filtered_HallOfFame[\"playerID\"].n_unique())\n",
        "print(filtered_HallOfFame.height)\n",
        "\n",
        "\n",
        "hall_inducted = Batting.join(\n",
        "    filtered_HallOfFame,\n",
        "    on = \"playerID\",\n",
        "    how = \"inner\"\n",
        ")\n",
        "\n",
        "hall_inducted"
      ]
    },
    {
      "cell_type": "markdown",
      "metadata": {
        "id": "A6z9HFdjyU1y"
      },
      "source": [
        "#### Part B: Find the average number of career hits across Hall of Fame players\n",
        "\n",
        "Join the `hall_inducted` data into the `Batting` data by `playerID`. Aggregate the data to compute the average total hits (`H`) across all Hall of Fame players. To do this, you will first need to calculate the total number of hits for each player and then calculate the average hits across all players. Call the new column `average_hits`. The resulting DataFrame should have one row and be named `hof_hits`.\n",
        "\n",
        "*Insert a code block that joins the `Batting` and the `hall_inducted` data together and then calculates the average number of career hits (`H`) across all Hall of Fame players. The output of this code block should be a DataFrame.*"
      ]
    },
    {
      "cell_type": "code",
      "execution_count": 21,
      "metadata": {
        "id": "JzWY4cVbyU1y",
        "colab": {
          "base_uri": "https://localhost:8080/"
        },
        "outputId": "1b772708-d56f-4152-8574-cba489ec3b87"
      },
      "outputs": [
        {
          "output_type": "stream",
          "name": "stdout",
          "text": [
            "shape: (1, 1)\n",
            "┌──────────────┐\n",
            "│ average_hits │\n",
            "│ ---          │\n",
            "│ f64          │\n",
            "╞══════════════╡\n",
            "│ 1717.29918   │\n",
            "└──────────────┘\n",
            "The average number of career hits across Hall of Fame players is 1,717.\n"
          ]
        }
      ],
      "source": [
        "# Calculate average career hits for Hall of Fame players\n",
        "hof_hits = hall_inducted.group_by(\"playerID\").agg(pl.col(\"H\").sum().alias(\"total_hits\")).select(pl.col(\"total_hits\").mean().alias(\"average_hits\"))\n",
        "print(hof_hits)\n",
        "print(f\"The average number of career hits across Hall of Fame players is {hof_hits['average_hits'][0]:,.0f}.\")"
      ]
    }
  ],
  "metadata": {
    "kernelspec": {
      "display_name": "Python 3",
      "language": "python",
      "name": "python3"
    },
    "language_info": {
      "codemirror_mode": {
        "name": "ipython",
        "version": 3
      },
      "file_extension": ".py",
      "mimetype": "text/x-python",
      "name": "python",
      "nbconvert_exporter": "python",
      "pygments_lexer": "ipython3",
      "version": "3.12.0"
    },
    "colab": {
      "provenance": []
    }
  },
  "nbformat": 4,
  "nbformat_minor": 0
}